{
 "cells": [
  {
   "cell_type": "code",
   "execution_count": 1,
   "metadata": {},
   "outputs": [],
   "source": [
    "from PIL import Image\n",
    "import numpy as np\n",
    "import matplotlib.pyplot as plt"
   ]
  },
  {
   "cell_type": "code",
   "execution_count": 2,
   "metadata": {},
   "outputs": [],
   "source": [
    "image = Image.open('prova_crop.png')\n",
    "image_np = np.copy(image)"
   ]
  },
  {
   "cell_type": "code",
   "execution_count": 3,
   "metadata": {},
   "outputs": [],
   "source": [
    "# Creazione di una copia dell'immagine originale\n",
    "image_np_mod = np.copy(image_np)\n",
    "\n",
    "# Dimensione della larghezza dell'immagine\n",
    "width = image_np.shape[1]\n",
    "\n",
    "# Intervallo per le linee verticali\n",
    "interval = 245\n",
    "\n",
    "# Ciclo per aggiungere linee verticali ogni 245 pixel\n",
    "for x in range(interval, width, interval):\n",
    "    image_np_mod[:, x:x+2, :] = [214, 136, 133]  # Colore delle linee (modifica se necessario)\n",
    "    \n",
    "Image.fromarray(image_np_mod).save('image_proc.png')\n"
   ]
  },
  {
   "cell_type": "code",
   "execution_count": 34,
   "metadata": {},
   "outputs": [],
   "source": [
    "image_np_mod = np.copy(image_np)\n",
    "image_np_mod[:,245:247, :] = [214,136,133]\n",
    "image_np_mod[:,491:493, :] = [214,136,133]\n",
    "image_np_mod[:,737:739, :] = [214,136,133]\n",
    "image_np_mod[:,983:985, :] = [214,136,133]\n",
    "image_np_mod[:,1229:1231, :] = [214,136,133]\n",
    "image_np_mod[:,1475:1477, :] = [214,136,133]\n",
    "image_np_mod[:,1722:1724, :] = [214,136,133]\n",
    "image_np_mod[:,1968:1970, :] = [214,136,133]\n",
    "image_np_mod[:,2214:2216, :] = [214,136,133]\n",
    "image_np_mod[:,2460:2462, :] = [214,136,133]\n",
    "#[255,255,255]\n",
    "#[214,136,133]\n",
    "Image.fromarray(image_np_mod).save('image_proc.png')"
   ]
  },
  {
   "cell_type": "code",
   "execution_count": 36,
   "metadata": {},
   "outputs": [],
   "source": [
    "from PIL import Image\n",
    "import numpy as np\n",
    "\n",
    "# Crea una copia dell'immagine\n",
    "image_np_mod = np.copy(image_np)\n",
    "\n",
    "# Definisci intervallo e colore della linea\n",
    "interval = 246\n",
    "line_color = [214, 136, 133]\n",
    "\n",
    "# Applica la linea verticale ogni 246 pixel\n",
    "for x in range(245, image_np.shape[1], interval):\n",
    "    image_np_mod[:, x:x+2, :] = line_color\n",
    "\n",
    "# Salva l'immagine modificata\n",
    "Image.fromarray(image_np_mod).save('image_proc.png')"
   ]
  },
  {
   "cell_type": "code",
   "execution_count": null,
   "metadata": {},
   "outputs": [],
   "source": []
  },
  {
   "cell_type": "code",
   "execution_count": null,
   "metadata": {},
   "outputs": [],
   "source": []
  },
  {
   "cell_type": "code",
   "execution_count": null,
   "metadata": {},
   "outputs": [],
   "source": []
  }
 ],
 "metadata": {
  "kernelspec": {
   "display_name": "python_base",
   "language": "python",
   "name": "python3"
  },
  "language_info": {
   "codemirror_mode": {
    "name": "ipython",
    "version": 3
   },
   "file_extension": ".py",
   "mimetype": "text/x-python",
   "name": "python",
   "nbconvert_exporter": "python",
   "pygments_lexer": "ipython3",
   "version": "3.12.3"
  }
 },
 "nbformat": 4,
 "nbformat_minor": 2
}
